{
 "cells": [
  {
   "cell_type": "markdown",
   "metadata": {},
   "source": [
    "# Sparkify Project Workspace\n",
    "This workspace contains a tiny subset (128MB) of the full dataset available (12GB). Feel free to use this workspace to build your project, or to explore a smaller subset with Spark before deploying your cluster on the cloud. Instructions for setting up your Spark cluster is included in the last lesson of the Extracurricular Spark Course content.\n",
    "\n",
    "You can follow the steps below to guide your data analysis and model building portion of this project."
   ]
  },
  {
   "cell_type": "code",
   "execution_count": 1,
   "metadata": {},
   "outputs": [],
   "source": [
    "import pandas as pd\n",
    "import numpy as np\n",
    "import matplotlib.pyplot as plt\n",
    "import seaborn as sns"
   ]
  },
  {
   "cell_type": "code",
   "execution_count": 2,
   "metadata": {},
   "outputs": [],
   "source": [
    "# import pyspark libraries\n",
    "from pyspark.sql import SparkSession\n",
    "from pyspark.sql import Window\n",
    "from pyspark.sql.functions import udf, desc, approx_count_distinct, col, to_date \\\n",
    "                                  , from_unixtime, to_date, year, dayofyear, dayofweek, \\\n",
    "                                  dayofmonth, datediff, countDistinct, isnan\n",
    "from pyspark.sql.functions import sum as Fsum\n",
    "from pyspark.sql.types import IntegerType, StringType\n",
    "\n",
    "from pyspark.ml import Pipeline\n",
    "from pyspark.ml.feature import StringIndexer, RegexTokenizer, CountVectorizer, HashingTF, IDF, VectorAssembler, \\\n",
    "                               Imputer\n",
    "from pyspark.ml.classification import LinearSVC, LogisticRegression, BinaryLogisticRegressionSummary, \\\n",
    "                                      RandomForestClassifier, DecisionTreeClassifier, GBTClassifier, \\\n",
    "                                      NaiveBayes, MultilayerPerceptronClassifier\n",
    "\n",
    "from pyspark.ml.evaluation import BinaryClassificationEvaluator\n",
    "from pyspark.ml.tuning import CrossValidator, ParamGridBuilder"
   ]
  },
  {
   "cell_type": "code",
   "execution_count": 3,
   "metadata": {},
   "outputs": [],
   "source": [
    "# create a Spark session\n",
    "spark = SparkSession.builder \\\n",
    "        .master(\"local\")    \\\n",
    "        .appName(\"Sparkify Project\") \\\n",
    "        .getOrCreate()\n"
   ]
  },
  {
   "cell_type": "markdown",
   "metadata": {},
   "source": [
    "# Load and Clean Dataset\n",
    "In this workspace, the mini-dataset file is `mini_sparkify_event_data.json`. Load and clean the dataset, checking for invalid or missing data - for example, records without userids or sessionids. "
   ]
  },
  {
   "cell_type": "code",
   "execution_count": 38,
   "metadata": {},
   "outputs": [
    {
     "data": {
      "text/plain": [
       "Row(artist='Martha Tilston', auth='Logged In', firstName='Colin', gender='M', itemInSession=50, lastName='Freeman', length=277.89016, level='paid', location='Bakersfield, CA', method='PUT', page='NextSong', registration=1538173362000, sessionId=29, song='Rockpools', status=200, ts=1538352117000, userAgent='Mozilla/5.0 (Windows NT 6.1; WOW64; rv:31.0) Gecko/20100101 Firefox/31.0', userId='30')"
      ]
     },
     "execution_count": 38,
     "metadata": {},
     "output_type": "execute_result"
    }
   ],
   "source": [
    "mini_sparkify = 'mini_sparkify_event_data.json'\n",
    "df = spark.read.json(mini_sparkify)\n",
    "df.head()"
   ]
  },
  {
   "cell_type": "code",
   "execution_count": 5,
   "metadata": {},
   "outputs": [
    {
     "data": {
      "text/plain": [
       "userId              0\n",
       "auth                0\n",
       "ts                  0\n",
       "status              0\n",
       "itemInSession       0\n",
       "sessionId           0\n",
       "level               0\n",
       "page                0\n",
       "method              0\n",
       "registration      321\n",
       "location          321\n",
       "lastName          321\n",
       "gender            321\n",
       "firstName         321\n",
       "userAgent         321\n",
       "length           2187\n",
       "song             2187\n",
       "artist           2187\n",
       "dtype: int64"
      ]
     },
     "execution_count": 5,
     "metadata": {},
     "output_type": "execute_result"
    }
   ],
   "source": [
    "pd_df = df.sample(withReplacement=True, fraction=0.5).toPandas()[:10000]\n",
    "pd_df.isnull().sum().sort_values()"
   ]
  },
  {
   "cell_type": "code",
   "execution_count": 39,
   "metadata": {},
   "outputs": [],
   "source": [
    "df = df.dropna(subset=['userId', 'sessionId', 'itemInSession', 'registration','location','lastName','gender','firstName','userAgent'])"
   ]
  },
  {
   "cell_type": "code",
   "execution_count": 40,
   "metadata": {},
   "outputs": [],
   "source": [
    "imputer = Imputer(strategy='mean', inputCols=['length'], outputCols=['length'])"
   ]
  },
  {
   "cell_type": "code",
   "execution_count": 41,
   "metadata": {},
   "outputs": [],
   "source": [
    "imputerModel = imputer.fit(df)"
   ]
  },
  {
   "cell_type": "code",
   "execution_count": 42,
   "metadata": {},
   "outputs": [],
   "source": [
    "df = imputerModel.transform(df)"
   ]
  },
  {
   "cell_type": "code",
   "execution_count": 43,
   "metadata": {},
   "outputs": [],
   "source": [
    "df = df.fillna({'song': 'unknown', 'artist': 'unknown'})"
   ]
  },
  {
   "cell_type": "markdown",
   "metadata": {},
   "source": [
    "# Exploratory Data Analysis\n",
    "When you're working with the full dataset, perform EDA by loading a small subset of the data and doing basic manipulations within Spark. In this workspace, you are already provided a small subset of data you can explore.\n",
    "\n",
    "### Define Churn\n",
    "\n",
    "Once you've done some preliminary analysis, create a column `Churn` to use as the label for your model. I suggest using the `Cancellation Confirmation` events to define your churn, which happen for both paid and free users. As a bonus task, you can also look into the `Downgrade` events.\n",
    "\n",
    "### Explore Data\n",
    "Once you've defined churn, perform some exploratory data analysis to observe the behavior for users who stayed vs users who churned. You can start by exploring aggregates on these two groups of users, observing how much of a specific action they experienced per a certain time unit or number of songs played."
   ]
  },
  {
   "cell_type": "code",
   "execution_count": 44,
   "metadata": {},
   "outputs": [
    {
     "data": {
      "text/plain": [
       "(278154, 18)"
      ]
     },
     "execution_count": 44,
     "metadata": {},
     "output_type": "execute_result"
    }
   ],
   "source": [
    "#Row number and column number\n",
    "(df.count(),len(df.columns))"
   ]
  },
  {
   "cell_type": "code",
   "execution_count": 45,
   "metadata": {},
   "outputs": [],
   "source": [
    "def create_churn(df=df, cancelled='Cancelled'):\n",
    "    flag_churn_event = udf(lambda x: 1 if x == \"Cancelled\" else 0, IntegerType())\n",
    "    df = df.withColumn(cancelled, flag_churn_event(\"auth\"))\n",
    "    windowval = Window.partitionBy(\"userId\").orderBy(desc(\"ts\")).rangeBetween(Window.unboundedPreceding, 0)\n",
    "    df = df.withColumn(\"Churn\", Fsum(cancelled).over(windowval))\n",
    "    return df\n",
    "\n",
    "df = create_churn()"
   ]
  },
  {
   "cell_type": "code",
   "execution_count": 46,
   "metadata": {},
   "outputs": [],
   "source": [
    "pd_df = df.sample(withReplacement=True, fraction=0.5).toPandas()[:10000]"
   ]
  },
  {
   "cell_type": "code",
   "execution_count": 47,
   "metadata": {
    "scrolled": true
   },
   "outputs": [
    {
     "data": {
      "image/png": "[encoded data removed]",
      "text/plain": [
       "<Figure size 432x288 with 1 Axes>"
      ]
     },
     "metadata": {
      "needs_background": "light"
     },
     "output_type": "display_data"
    }
   ],
   "source": [
    "plt.hist(pd_df['length'].dropna(),bins=60);\n",
    "plt.ylabel('Count');\n",
    "plt.xlabel('Seconds');\n",
    "plt.xlim(0,800);"
   ]
  },
  {
   "cell_type": "code",
   "execution_count": 48,
   "metadata": {},
   "outputs": [
    {
     "data": {
      "image/png": "[encoded data removed]",
      "text/plain": [
       "<Figure size 432x288 with 1 Axes>"
      ]
     },
     "metadata": {
      "needs_background": "light"
     },
     "output_type": "display_data"
    }
   ],
   "source": [
    "base_color = sns.color_palette()[0]\n",
    "sns.countplot(data=pd_df, x='status',hue='Churn');\n",
    "#plt.xlim(0,2000)"
   ]
  },
  {
   "cell_type": "code",
   "execution_count": 49,
   "metadata": {},
   "outputs": [
    {
     "data": {
      "image/png": "[encoded data removed]",
      "text/plain": [
       "<Figure size 432x288 with 1 Axes>"
      ]
     },
     "metadata": {
      "needs_background": "light"
     },
     "output_type": "display_data"
    }
   ],
   "source": [
    "#Gender and Churn\n",
    "sns.countplot(data=pd_df, x='gender', hue='Churn');"
   ]
  },
  {
   "cell_type": "code",
   "execution_count": 50,
   "metadata": {},
   "outputs": [
    {
     "data": {
      "image/png": "[encoded data removed]",
      "text/plain": [
       "<Figure size 432x288 with 1 Axes>"
      ]
     },
     "metadata": {
      "needs_background": "light"
     },
     "output_type": "display_data"
    }
   ],
   "source": [
    "#Level and Churn\n",
    "sns.countplot(data=pd_df, x='level', hue='Churn');"
   ]
  },
  {
   "cell_type": "code",
   "execution_count": 51,
   "metadata": {},
   "outputs": [
    {
     "data": {
      "image/png": "[encoded data removed]",
      "text/plain": [
       "<Figure size 432x288 with 1 Axes>"
      ]
     },
     "metadata": {
      "needs_background": "light"
     },
     "output_type": "display_data"
    }
   ],
   "source": [
    "#Page and Churn\n",
    "ordered_page = pd_df['page'].value_counts().index\n",
    "sns.countplot(data=pd_df, y='page', order=ordered_page, hue='Churn');\n",
    "plt.xlim(0,4000);"
   ]
  },
  {
   "cell_type": "code",
   "execution_count": 52,
   "metadata": {},
   "outputs": [
    {
     "data": {
      "image/png": "[encoded data removed]",
      "text/plain": [
       "<Figure size 432x288 with 1 Axes>"
      ]
     },
     "metadata": {
      "needs_background": "light"
     },
     "output_type": "display_data"
    }
   ],
   "source": [
    "#Registration and Churn\n",
    "sns.boxplot(data=pd_df, x='Churn',color=base_color, y='registration');"
   ]
  },
  {
   "cell_type": "code",
   "execution_count": 53,
   "metadata": {},
   "outputs": [],
   "source": [
    "pd_agg_df = pd_df.groupby('userId').agg({'length':'mean', 'song': pd.Series.nunique,\\\n",
    "                                         'Churn':'max'})"
   ]
  },
  {
   "cell_type": "code",
   "execution_count": 54,
   "metadata": {},
   "outputs": [
    {
     "data": {
      "text/plain": [
       "13"
      ]
     },
     "execution_count": 54,
     "metadata": {},
     "output_type": "execute_result"
    }
   ],
   "source": [
    "#Total number of sample users\n",
    "pd_agg_df.shape[0]"
   ]
  },
  {
   "cell_type": "code",
   "execution_count": 55,
   "metadata": {},
   "outputs": [
    {
     "data": {
      "text/plain": [
       "5"
      ]
     },
     "execution_count": 55,
     "metadata": {},
     "output_type": "execute_result"
    }
   ],
   "source": [
    "#Churn number of smaple users\n",
    "pd_agg_df[pd_agg_df.Churn == 1].shape[0]"
   ]
  },
  {
   "cell_type": "code",
   "execution_count": 56,
   "metadata": {},
   "outputs": [
    {
     "data": {
      "image/png": "[encoded data removed]",
      "text/plain": [
       "<Figure size 474.375x432 with 1 Axes>"
      ]
     },
     "metadata": {
      "needs_background": "light"
     },
     "output_type": "display_data"
    }
   ],
   "source": [
    "g = sns.FacetGrid(data=pd_agg_df,  hue='Churn', height=6);\n",
    "g.map(plt.scatter, 'length', 'song');\n",
    "plt.xlabel('Listening song avg Length(s)')\n",
    "plt.ylabel(\"Songs' counts(unique)\")\n",
    "g.add_legend();"
   ]
  },
  {
   "cell_type": "code",
   "execution_count": 57,
   "metadata": {},
   "outputs": [
    {
     "name": "stdout",
     "output_type": "stream",
     "text": [
      "root\n",
      " |-- artist: string (nullable = false)\n",
      " |-- auth: string (nullable = true)\n",
      " |-- firstName: string (nullable = true)\n",
      " |-- gender: string (nullable = true)\n",
      " |-- itemInSession: long (nullable = true)\n",
      " |-- lastName: string (nullable = true)\n",
      " |-- length: double (nullable = true)\n",
      " |-- level: string (nullable = true)\n",
      " |-- location: string (nullable = true)\n",
      " |-- method: string (nullable = true)\n",
      " |-- page: string (nullable = true)\n",
      " |-- registration: long (nullable = true)\n",
      " |-- sessionId: long (nullable = true)\n",
      " |-- song: string (nullable = false)\n",
      " |-- status: long (nullable = true)\n",
      " |-- ts: long (nullable = true)\n",
      " |-- userAgent: string (nullable = true)\n",
      " |-- userId: string (nullable = true)\n",
      " |-- Cancelled: integer (nullable = true)\n",
      " |-- Churn: long (nullable = true)\n",
      "\n"
     ]
    }
   ],
   "source": [
    "df.printSchema()"
   ]
  },
  {
   "cell_type": "markdown",
   "metadata": {},
   "source": [
    "# Feature Engineering\n",
    "Once you've familiarized yourself with the data, build out the features you find promising to train your model on. To work with the full dataset, you can follow the following steps.\n",
    "- Write a script to extract the necessary features from the smaller subset of data\n",
    "- Ensure that your script is scalable, using the best practices discussed in Lesson 3\n",
    "- Try your script on the full data set, debugging your script if necessary\n",
    "\n",
    "If you are working in the classroom workspace, you can just extract features based on the small subset of data contained here. Be sure to transfer over this work to the larger dataset when you work on your Spark cluster."
   ]
  },
  {
   "cell_type": "code",
   "execution_count": 58,
   "metadata": {},
   "outputs": [],
   "source": [
    "#Turn the Churn column to label \n",
    "df = df.withColumn('label', col('Churn'))"
   ]
  },
  {
   "cell_type": "code",
   "execution_count": 59,
   "metadata": {},
   "outputs": [],
   "source": [
    "fill_0_negative = udf(lambda x: 0 if x< 0 else x , IntegerType())\n",
    "df = df.withColumn('registDays', fill_0_negative(datediff(to_date(from_unixtime(df['ts']/1000)), \\\n",
    "                                     to_date(from_unixtime(df['registration']/1000)))))"
   ]
  },
  {
   "cell_type": "code",
   "execution_count": 60,
   "metadata": {},
   "outputs": [],
   "source": [
    "def create_paidRation(df=df):\n",
    "    levelTotal_df = df.groupby(['userId']).count().withColumnRenamed('count', 'levelTotal')\n",
    "    levelPaid_df = df[df.level=='paid'].groupby(['userId']).count().withColumnRenamed('count', 'levelPaid')\n",
    "    df = df.join(levelTotal_df, on='userId', how='inner')\n",
    "    df = df.join(levelPaid_df, on='userId', how='inner')\n",
    "    df = df.withColumn('paidRatio',df['levelPaid']/df['levelTotal'])\n",
    "    return df"
   ]
  },
  {
   "cell_type": "code",
   "execution_count": 61,
   "metadata": {},
   "outputs": [],
   "source": [
    "df = create_paidRation(df)"
   ]
  },
  {
   "cell_type": "code",
   "execution_count": 62,
   "metadata": {},
   "outputs": [],
   "source": [
    "def create_replayRatio(df=df):\n",
    "    countDistinct_df = df.groupby(['userId']).agg(countDistinct('song').alias('countDistinctSongs'))\n",
    "    agg_df = df.groupby(['userId']).agg({'length':'mean', 'song':'count'})\n",
    "    df = df.join(countDistinct_df, on='userId', how='inner')\n",
    "    df = df.join(agg_df, on='userId', how='inner')\n",
    "    df = df.withColumnRenamed('count(song)', 'countSongs').withColumnRenamed('avg(length)', 'avgLength')\n",
    "    df = df.withColumn('replayRatio', df['countSongs']/df['countDistinctSongs'])\n",
    "    return df"
   ]
  },
  {
   "cell_type": "code",
   "execution_count": 63,
   "metadata": {},
   "outputs": [],
   "source": [
    "df = create_replayRatio(df)"
   ]
  },
  {
   "cell_type": "code",
   "execution_count": 64,
   "metadata": {},
   "outputs": [],
   "source": [
    "genderStringIndexer = StringIndexer(inputCol='gender', outputCol='genderIndexer', handleInvalid='skip')"
   ]
  },
  {
   "cell_type": "code",
   "execution_count": 65,
   "metadata": {},
   "outputs": [],
   "source": [
    "levelStringIndexer = StringIndexer(inputCol='level', outputCol='levelIndexer', handleInvalid='skip')"
   ]
  },
  {
   "cell_type": "code",
   "execution_count": 66,
   "metadata": {},
   "outputs": [],
   "source": [
    "vectAssembler = VectorAssembler(inputCols=['genderIndexer', 'registDays', \\\n",
    "                                           'levelIndexer', 'paidRatio', 'avgLength', \\\n",
    "                                           'countSongs', 'countDistinctSongs', \\\n",
    "                                           'replayRatio'], outputCol='features')"
   ]
  },
  {
   "cell_type": "markdown",
   "metadata": {},
   "source": [
    "# Modeling\n",
    "Split the full dataset into train, test, and validation sets. Test out several of the machine learning methods you learned. Evaluate the accuracy of the various models, tuning parameters as necessary. Determine your winning model based on test accuracy and report results on the validation set. Since the churned users are a fairly small subset, I suggest using F1 score as the metric to optimize."
   ]
  },
  {
   "cell_type": "code",
   "execution_count": 67,
   "metadata": {},
   "outputs": [],
   "source": [
    "train, test, validate = df.randomSplit([0.6, 0.2, 0.2], seed=42)\n"
   ]
  },
  {
   "cell_type": "code",
   "execution_count": 68,
   "metadata": {},
   "outputs": [],
   "source": [
    "def build_model(train=train, test=test, pipeline= None, evaluator=None, paramGrid=None, numFolds=5):\n",
    "    \n",
    "    evaluator = evaluator\n",
    "    crossvalid = CrossValidator(estimator=pipeline,\n",
    "                                estimatorParamMaps=paramGrid,\n",
    "                                evaluator=evaluator,\n",
    "                                numFolds=numFolds)\n",
    "    cvModel = crossvalid.fit(train)\n",
    "    return cvModel\n",
    "    "
   ]
  },
  {
   "cell_type": "code",
   "execution_count": 72,
   "metadata": {},
   "outputs": [
    {
     "name": "stdout",
     "output_type": "stream",
     "text": [
      "areaUnderROC:0.9999494619233228\n",
      "areaUnderPR:0.9997195317179808\n",
      "cvModel attribute:{'uid': 'PipelineModel_e3889f0fb681', '_paramMap': {}, '_defaultParamMap': {}, '_params': None, 'stages': [StringIndexer_0ff63e630f8a, StringIndexer_10397e1f149d, VectorAssembler_589a59ebd558, RandomForestClassificationModel (uid=RandomForestClassifier_89b435859d46) with 20 trees]}\n"
     ]
    }
   ],
   "source": [
    "rfc = RandomForestClassifier()\n",
    "\n",
    "pipeline = Pipeline(stages=[genderStringIndexer, levelStringIndexer,vectAssembler, rfc])\n",
    "\n",
    "paramGrid = ParamGridBuilder() \\\n",
    "            .addGrid(rfc.maxDepth, [2, 5, 10]) \\\n",
    "            .build()\n",
    "\n",
    "evaluator = BinaryClassificationEvaluator()\n",
    "\n",
    "cvModel = build_model(train, test, pipeline, evaluator, paramGrid)\n",
    "\n",
    "print('areaUnderROC:{}'.format(evaluator.evaluate(cvModel.transform(test))))\n",
    "print('areaUnderPR:{}'.format(evaluator.evaluate(cvModel.transform(test), {evaluator.metricName: \"areaUnderPR\"})))"
   ]
  },
  {
   "cell_type": "code",
   "execution_count": 37,
   "metadata": {},
   "outputs": [
    {
     "name": "stdout",
     "output_type": "stream",
     "text": [
      "areaUnderROC:0.5961326754506855\n",
      "areaUnderPR:0.21866613095689644\n"
     ]
    }
   ],
   "source": [
    "lsvc = LinearSVC()\n",
    "\n",
    "pipeline = Pipeline(stages=[genderStringIndexer, levelStringIndexer, vectAssembler, lsvc])\n",
    "\n",
    "paramGrid = ParamGridBuilder() \\\n",
    "                .addGrid(lsvc.maxIter, [5, 10]) \\\n",
    "                .addGrid(lsvc.regParam, [0.0, 0.1]) \\\n",
    "                .build()\n",
    "evaluator = BinaryClassificationEvaluator()\n",
    "\n",
    "cvModel = build_model(train, test, pipeline, evaluator, paramGrid)\n",
    "\n",
    "print('areaUnderROC:{}'.format(evaluator.evaluate(cvModel.transform(test))))\n",
    "print('areaUnderPR:{}'.format(evaluator.evaluate(cvModel.transform(test), {evaluator.metricName: \"areaUnderPR\"})))\n",
    "print('cvModel attribute:{}'.format(cvModel.bestModel.__dict__))"
   ]
  },
  {
   "cell_type": "code",
   "execution_count": 73,
   "metadata": {},
   "outputs": [
    {
     "name": "stdout",
     "output_type": "stream",
     "text": [
      "areaUnderROC:0.6895781745559943\n",
      "areaUnderPR:0.281092516579012\n",
      "cvModel bestModel attribute:{'uid': 'PipelineModel_14c922f6fe3d', '_paramMap': {}, '_defaultParamMap': {}, '_params': None, 'stages': [StringIndexer_0ff63e630f8a, StringIndexer_10397e1f149d, VectorAssembler_589a59ebd558, LogisticRegressionModel: uid = LogisticRegression_8661d62a5ceb, numClasses = 2, numFeatures = 8]}\n"
     ]
    }
   ],
   "source": [
    "lr = LogisticRegression()\n",
    "\n",
    "pipeline = Pipeline(stages=[genderStringIndexer, levelStringIndexer,vectAssembler, lr])\n",
    "\n",
    "paramGrid = ParamGridBuilder() \\\n",
    "            .addGrid(lr.maxIter, [5, 10]) \\\n",
    "            .addGrid(lr.regParam, [0.0, 0.1]) \\\n",
    "            .addGrid(lr.elasticNetParam, [0.0, 1.0]) \\\n",
    "            .build()\n",
    "\n",
    "evaluator = BinaryClassificationEvaluator()\n",
    "\n",
    "cvModel = build_model(train, test, pipeline, evaluator, paramGrid)\n",
    "\n",
    "print('areaUnderROC:{}'.format(evaluator.evaluate(cvModel.transform(test))))\n",
    "print('areaUnderPR:{}'.format(evaluator.evaluate(cvModel.transform(test), {evaluator.metricName: \"areaUnderPR\"})))\n",
    "print('cvModel bestModel attribute:{}'.format(cvModel.bestModel.__dict__))"
   ]
  },
  {
   "cell_type": "code",
   "execution_count": 38,
   "metadata": {},
   "outputs": [
    {
     "name": "stdout",
     "output_type": "stream",
     "text": [
      "areaUnderROC:0.7040135368031165\n",
      "areaUnderPR:0.23586776091066503\n"
     ]
    }
   ],
   "source": [
    "dc = DecisionTreeClassifier()\n",
    "\n",
    "pipeline = Pipeline(stages=[genderStringIndexer, levelStringIndexer,vectAssembler, dc])\n",
    "\n",
    "paramGrid = ParamGridBuilder() \\\n",
    "            .addGrid(dc.maxDepth, [2, 5]) \\\n",
    "            .addGrid(dc.maxBins, [32, 64]) \\\n",
    "            .build()\n",
    "\n",
    "evaluator = BinaryClassificationEvaluator()\n",
    "\n",
    "cvModel = build_model(train, test, pipeline, evaluator, paramGrid)\n",
    "\n",
    "print('areaUnderROC:{}'.format(evaluator.evaluate(cvModel.transform(test))))\n",
    "print('areaUnderPR:{}'.format(evaluator.evaluate(cvModel.transform(test), {evaluator.metricName: \"areaUnderPR\"})))"
   ]
  },
  {
   "cell_type": "code",
   "execution_count": 39,
   "metadata": {},
   "outputs": [
    {
     "name": "stdout",
     "output_type": "stream",
     "text": [
      "areaUnderROC:0.9998956462222165\n",
      "areaUnderPR:0.9994413915610577\n",
      "cvModel bestModel attribute:{'uid': 'PipelineModel_941f90812dc1', '_paramMap': {}, '_defaultParamMap': {}, '_params': None, 'stages': [StringIndexer_127f93bb1059, StringIndexer_3672e7f26df6, VectorAssembler_a1a0cbc8500b, GBTClassificationModel (uid=GBTClassifier_aec9f7f3d82e) with 10 trees]}\n"
     ]
    }
   ],
   "source": [
    "gbtc = GBTClassifier()\n",
    "\n",
    "pipeline = Pipeline(stages=[genderStringIndexer, levelStringIndexer,vectAssembler, gbtc])\n",
    "\n",
    "paramGrid = ParamGridBuilder() \\\n",
    "            .addGrid(gbtc.maxIter, [5,10]) \\\n",
    "            .addGrid(gbtc.maxDepth, [2, 5]) \\\n",
    "            .addGrid(gbtc.maxBins, [32, 64]) \\\n",
    "            .build()\n",
    "\n",
    "evaluator = BinaryClassificationEvaluator()\n",
    "\n",
    "cvModel = build_model(train, test, pipeline, evaluator, paramGrid)\n",
    "\n",
    "print('areaUnderROC:{}'.format(evaluator.evaluate(cvModel.transform(test))))\n",
    "print('areaUnderPR:{}'.format(evaluator.evaluate(cvModel.transform(test), {evaluator.metricName: \"areaUnderPR\"})))\n",
    "print('cvModel bestModel attribute:{}'.format(cvModel.bestModel.__dict__))\n"
   ]
  },
  {
   "cell_type": "code",
   "execution_count": 69,
   "metadata": {},
   "outputs": [
    {
     "name": "stdout",
     "output_type": "stream",
     "text": [
      "areaUnderROC:0.666748002095109\n",
      "areaUnderPR:0.2609827419234653\n"
     ]
    }
   ],
   "source": [
    "nb = NaiveBayes()\n",
    "\n",
    "pipeline = Pipeline(stages=[genderStringIndexer, levelStringIndexer,vectAssembler, nb])\n",
    "\n",
    "paramGrid = ParamGridBuilder()                                                                              \\\n",
    "            .addGrid(nb.smoothing, [0.1, 0.5])                                                              \\\n",
    "            .build()\n",
    "\n",
    "evaluator = BinaryClassificationEvaluator()\n",
    "\n",
    "cvModel = build_model(train, test, pipeline, evaluator, paramGrid)\n",
    "\n",
    "print('areaUnderROC:{}'.format(evaluator.evaluate(cvModel.transform(test))))\n",
    "print('areaUnderPR:{}'.format(evaluator.evaluate(cvModel.transform(test), {evaluator.metricName: \"areaUnderPR\"})))"
   ]
  },
  {
   "cell_type": "code",
   "execution_count": 70,
   "metadata": {},
   "outputs": [
    {
     "name": "stdout",
     "output_type": "stream",
     "text": [
      "areaUnderROC:0.6227002591037091\n",
      "areaUnderPR:0.22845145780872422\n"
     ]
    }
   ],
   "source": [
    "mpc = MultilayerPerceptronClassifier(layers=[8, 15, 10, 2])\n",
    "\n",
    "pipeline = Pipeline(stages=[genderStringIndexer, levelStringIndexer,vectAssembler, mpc])\n",
    "\n",
    "# .addGrid(mpc.stepSize, [0.01, 0.03]) \\\n",
    "paramGrid = ParamGridBuilder() \\\n",
    "            .addGrid(mpc.maxIter, [5,10]) \\\n",
    "            .addGrid(mpc.blockSize, [10, 100]) \\\n",
    "            .build()\n",
    "\n",
    "evaluator = BinaryClassificationEvaluator()\n",
    "\n",
    "cvModel = build_model(train, test, pipeline, evaluator, paramGrid)\n",
    "\n",
    "print('areaUnderROC:{}'.format(evaluator.evaluate(cvModel.transform(test))))\n",
    "print('areaUnderPR:{}'.format(evaluator.evaluate(cvModel.transform(test), {evaluator.metricName: \"areaUnderPR\"})))"
   ]
  },
  {
   "cell_type": "markdown",
   "metadata": {},
   "source": [
    "### Final Model Selection\n",
    "\n",
    "Gradient Boosting seems to do comparatively for this case"
   ]
  },
  {
   "cell_type": "code",
   "execution_count": 74,
   "metadata": {},
   "outputs": [
    {
     "name": "stdout",
     "output_type": "stream",
     "text": [
      "areaUnderPR:1.0\n"
     ]
    }
   ],
   "source": [
    "rfc = RandomForestClassifier()\n",
    "\n",
    "pipeline = Pipeline(stages=[genderStringIndexer, levelStringIndexer,vectAssembler, rfc])\n",
    "\n",
    "paramGrid = ParamGridBuilder() \\\n",
    "            .addGrid(rfc.maxDepth, [2, 5, 10]) \\\n",
    "            .addGrid(rfc.maxBins, [8, 32]) \\\n",
    "            .addGrid(rfc.numTrees, [10, 20]) \\\n",
    "            .build()\n",
    "\n",
    "evaluator = BinaryClassificationEvaluator()\n",
    "\n",
    "cvModel = build_model(train, test, pipeline, evaluator, paramGrid)\n",
    "\n",
    "print('areaUnderPR:{}'.format(evaluator.evaluate(cvModel.transform(validate), {evaluator.metricName: \"areaUnderPR\"})))"
   ]
  },
  {
   "cell_type": "code",
   "execution_count": 76,
   "metadata": {},
   "outputs": [],
   "source": [
    "prediction = cvModel.transform(test)"
   ]
  },
  {
   "cell_type": "code",
   "execution_count": 77,
   "metadata": {},
   "outputs": [
    {
     "name": "stdout",
     "output_type": "stream",
     "text": [
      "root\n",
      " |-- userId: string (nullable = true)\n",
      " |-- artist: string (nullable = false)\n",
      " |-- auth: string (nullable = true)\n",
      " |-- firstName: string (nullable = true)\n",
      " |-- gender: string (nullable = true)\n",
      " |-- itemInSession: long (nullable = true)\n",
      " |-- lastName: string (nullable = true)\n",
      " |-- length: double (nullable = true)\n",
      " |-- level: string (nullable = true)\n",
      " |-- location: string (nullable = true)\n",
      " |-- method: string (nullable = true)\n",
      " |-- page: string (nullable = true)\n",
      " |-- registration: long (nullable = true)\n",
      " |-- sessionId: long (nullable = true)\n",
      " |-- song: string (nullable = false)\n",
      " |-- status: long (nullable = true)\n",
      " |-- ts: long (nullable = true)\n",
      " |-- userAgent: string (nullable = true)\n",
      " |-- Cancelled: integer (nullable = true)\n",
      " |-- Churn: long (nullable = true)\n",
      " |-- label: long (nullable = true)\n",
      " |-- registDays: integer (nullable = true)\n",
      " |-- levelTotal: long (nullable = false)\n",
      " |-- levelPaid: long (nullable = false)\n",
      " |-- paidRatio: double (nullable = true)\n",
      " |-- countDistinctSongs: long (nullable = false)\n",
      " |-- countSongs: long (nullable = false)\n",
      " |-- avgLength: double (nullable = true)\n",
      " |-- replayRatio: double (nullable = true)\n",
      " |-- genderIndexer: double (nullable = false)\n",
      " |-- levelIndexer: double (nullable = false)\n",
      " |-- features: vector (nullable = true)\n",
      " |-- rawPrediction: vector (nullable = true)\n",
      " |-- probability: vector (nullable = true)\n",
      " |-- prediction: double (nullable = false)\n",
      "\n"
     ]
    }
   ],
   "source": [
    "prediction.printSchema()"
   ]
  },
  {
   "cell_type": "code",
   "execution_count": 82,
   "metadata": {},
   "outputs": [
    {
     "name": "stdout",
     "output_type": "stream",
     "text": [
      "+------+-----+----------+\n",
      "|userId|label|prediction|\n",
      "+------+-----+----------+\n",
      "|200002|    0|       0.0|\n",
      "|   124|    0|       0.0|\n",
      "|    51|    1|       1.0|\n",
      "|    15|    0|       0.0|\n",
      "|    54|    1|       1.0|\n",
      "|   155|    0|       0.0|\n",
      "|100014|    1|       1.0|\n",
      "|   132|    0|       0.0|\n",
      "|   101|    1|       1.0|\n",
      "|    11|    0|       0.0|\n",
      "|   138|    0|       0.0|\n",
      "|300017|    0|       0.0|\n",
      "|    29|    1|       1.0|\n",
      "|    69|    0|       0.0|\n",
      "|    42|    0|       0.0|\n",
      "|    73|    1|       1.0|\n",
      "|    87|    1|       1.0|\n",
      "|     3|    1|       1.0|\n",
      "|   113|    0|       0.0|\n",
      "|    30|    0|       0.0|\n",
      "+------+-----+----------+\n",
      "only showing top 20 rows\n",
      "\n"
     ]
    }
   ],
   "source": [
    "prediction.select('userId','label','prediction').dropDuplicates().show()"
   ]
  },
  {
   "cell_type": "markdown",
   "metadata": {},
   "source": [
    "### Conclusion\n",
    "\n",
    "Feature Engineering is most time killing and most creative part.Exploratory a useful feature is difficult.\n"
   ]
  },
  {
   "cell_type": "markdown",
   "metadata": {},
   "source": [
    "### Improvement\n",
    "\n",
    "Exploratorying more Features, the implementation mybe being improved. \n"
   ]
  },
  {
   "cell_type": "markdown",
   "metadata": {},
   "source": [
    "# Final Steps\n",
    "Clean up your code, adding comments and renaming variables to make the code easier to read and maintain. Refer to the Spark Project Overview page and Data Scientist Capstone Project Rubric to make sure you are including all components of the capstone project and meet all expectations. Remember, this includes thorough documentation in a README file in a Github repository, as well as a web app or blog post."
   ]
  },
  {
   "cell_type": "code",
   "execution_count": null,
   "metadata": {},
   "outputs": [],
   "source": []
  }
 ],
 "metadata": {
  "kernelspec": {
   "display_name": "Python 3",
   "language": "python",
   "name": "python3"
  },
  "language_info": {
   "codemirror_mode": {
    "name": "ipython",
    "version": 3
   },
   "file_extension": ".py",
   "mimetype": "text/x-python",
   "name": "python",
   "nbconvert_exporter": "python",
   "pygments_lexer": "ipython3",
   "version": "3.7.4"
  }
 },
 "nbformat": 4,
 "nbformat_minor": 2
}
